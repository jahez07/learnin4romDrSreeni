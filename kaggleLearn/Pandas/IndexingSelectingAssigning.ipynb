{
 "cells": [
  {
   "cell_type": "markdown",
   "id": "b7ba0b06-ea86-45f2-8f02-fc167df49be7",
   "metadata": {},
   "source": [
    "# **Indexing, Selecting & Assigning**"
   ]
  },
  {
   "cell_type": "markdown",
   "id": "a864bf00-4e9b-4843-9d6f-26f983346f40",
   "metadata": {},
   "source": [
    "### Introduction\n",
    "Selecting specific values of a pandas DataFrame or Series work on is an implicit step in almost any data operation you'll run, so one of the first things you need to learn in working with data in Python is how to go about selecting the data points relevant to you quickly and effectively."
   ]
  },
  {
   "cell_type": "code",
   "execution_count": null,
   "id": "977f7fd7-8e28-4bad-bc9e-56c08b3d65ed",
   "metadata": {},
   "outputs": [],
   "source": []
  }
 ],
 "metadata": {
  "kernelspec": {
   "display_name": "learnAI",
   "language": "python",
   "name": "learnai"
  },
  "language_info": {
   "codemirror_mode": {
    "name": "ipython",
    "version": 3
   },
   "file_extension": ".py",
   "mimetype": "text/x-python",
   "name": "python",
   "nbconvert_exporter": "python",
   "pygments_lexer": "ipython3",
   "version": "3.12.3"
  }
 },
 "nbformat": 4,
 "nbformat_minor": 5
}
