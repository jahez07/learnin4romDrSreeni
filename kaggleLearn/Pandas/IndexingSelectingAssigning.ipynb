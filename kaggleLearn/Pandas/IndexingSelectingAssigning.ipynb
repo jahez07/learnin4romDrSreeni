{
 "cells": [
  {
   "cell_type": "markdown",
   "id": "b7ba0b06-ea86-45f2-8f02-fc167df49be7",
   "metadata": {},
   "source": [
    "# **Indexing, Selecting & Assigning**"
   ]
  },
  {
   "cell_type": "markdown",
   "id": "a864bf00-4e9b-4843-9d6f-26f983346f40",
   "metadata": {},
   "source": [
    "### Introduction\n",
    "Selecting specific values of a pandas DataFrame or Series work on is an implicit step in almost any data operation you'll run, so one of the first things you need to learn in working with data in Python is how to go about selecting the data points relevant to you quickly and effectively."
   ]
  },
  {
   "cell_type": "code",
   "execution_count": 1,
   "id": "977f7fd7-8e28-4bad-bc9e-56c08b3d65ed",
   "metadata": {},
   "outputs": [],
   "source": [
    "import pandas as pd\n",
    "reviews = pd.read_csv(\"../data/winemag-data-130k-v2.csv\", index_col=0)\n",
    "pd.set_option('display.max_rows', 5)"
   ]
  },
  {
   "cell_type": "markdown",
   "id": "128a64e0-58ec-4650-8eee-597a27e15fb7",
   "metadata": {},
   "source": [
    "### Native Accessors\n",
    "Native Python objects provide good ways of indexing data."
   ]
  },
  {
   "cell_type": "code",
   "execution_count": 2,
   "id": "fca9c1e3-f120-4788-b4d2-918947f53402",
   "metadata": {},
   "outputs": [
    {
     "data": {
      "text/html": [
       "<div>\n",
       "<style scoped>\n",
       "    .dataframe tbody tr th:only-of-type {\n",
       "        vertical-align: middle;\n",
       "    }\n",
       "\n",
       "    .dataframe tbody tr th {\n",
       "        vertical-align: top;\n",
       "    }\n",
       "\n",
       "    .dataframe thead th {\n",
       "        text-align: right;\n",
       "    }\n",
       "</style>\n",
       "<table border=\"1\" class=\"dataframe\">\n",
       "  <thead>\n",
       "    <tr style=\"text-align: right;\">\n",
       "      <th></th>\n",
       "      <th>country</th>\n",
       "      <th>description</th>\n",
       "      <th>designation</th>\n",
       "      <th>points</th>\n",
       "      <th>price</th>\n",
       "      <th>province</th>\n",
       "      <th>region_1</th>\n",
       "      <th>region_2</th>\n",
       "      <th>taster_name</th>\n",
       "      <th>taster_twitter_handle</th>\n",
       "      <th>title</th>\n",
       "      <th>variety</th>\n",
       "      <th>winery</th>\n",
       "    </tr>\n",
       "  </thead>\n",
       "  <tbody>\n",
       "    <tr>\n",
       "      <th>0</th>\n",
       "      <td>Italy</td>\n",
       "      <td>Aromas include tropical fruit, broom, brimston...</td>\n",
       "      <td>Vulkà Bianco</td>\n",
       "      <td>87</td>\n",
       "      <td>NaN</td>\n",
       "      <td>Sicily &amp; Sardinia</td>\n",
       "      <td>Etna</td>\n",
       "      <td>NaN</td>\n",
       "      <td>Kerin O’Keefe</td>\n",
       "      <td>@kerinokeefe</td>\n",
       "      <td>Nicosia 2013 Vulkà Bianco  (Etna)</td>\n",
       "      <td>White Blend</td>\n",
       "      <td>Nicosia</td>\n",
       "    </tr>\n",
       "    <tr>\n",
       "      <th>1</th>\n",
       "      <td>Portugal</td>\n",
       "      <td>This is ripe and fruity, a wine that is smooth...</td>\n",
       "      <td>Avidagos</td>\n",
       "      <td>87</td>\n",
       "      <td>15.0</td>\n",
       "      <td>Douro</td>\n",
       "      <td>NaN</td>\n",
       "      <td>NaN</td>\n",
       "      <td>Roger Voss</td>\n",
       "      <td>@vossroger</td>\n",
       "      <td>Quinta dos Avidagos 2011 Avidagos Red (Douro)</td>\n",
       "      <td>Portuguese Red</td>\n",
       "      <td>Quinta dos Avidagos</td>\n",
       "    </tr>\n",
       "    <tr>\n",
       "      <th>...</th>\n",
       "      <td>...</td>\n",
       "      <td>...</td>\n",
       "      <td>...</td>\n",
       "      <td>...</td>\n",
       "      <td>...</td>\n",
       "      <td>...</td>\n",
       "      <td>...</td>\n",
       "      <td>...</td>\n",
       "      <td>...</td>\n",
       "      <td>...</td>\n",
       "      <td>...</td>\n",
       "      <td>...</td>\n",
       "      <td>...</td>\n",
       "    </tr>\n",
       "    <tr>\n",
       "      <th>129969</th>\n",
       "      <td>France</td>\n",
       "      <td>A dry style of Pinot Gris, this is crisp with ...</td>\n",
       "      <td>NaN</td>\n",
       "      <td>90</td>\n",
       "      <td>32.0</td>\n",
       "      <td>Alsace</td>\n",
       "      <td>Alsace</td>\n",
       "      <td>NaN</td>\n",
       "      <td>Roger Voss</td>\n",
       "      <td>@vossroger</td>\n",
       "      <td>Domaine Marcel Deiss 2012 Pinot Gris (Alsace)</td>\n",
       "      <td>Pinot Gris</td>\n",
       "      <td>Domaine Marcel Deiss</td>\n",
       "    </tr>\n",
       "    <tr>\n",
       "      <th>129970</th>\n",
       "      <td>France</td>\n",
       "      <td>Big, rich and off-dry, this is powered by inte...</td>\n",
       "      <td>Lieu-dit Harth Cuvée Caroline</td>\n",
       "      <td>90</td>\n",
       "      <td>21.0</td>\n",
       "      <td>Alsace</td>\n",
       "      <td>Alsace</td>\n",
       "      <td>NaN</td>\n",
       "      <td>Roger Voss</td>\n",
       "      <td>@vossroger</td>\n",
       "      <td>Domaine Schoffit 2012 Lieu-dit Harth Cuvée Car...</td>\n",
       "      <td>Gewürztraminer</td>\n",
       "      <td>Domaine Schoffit</td>\n",
       "    </tr>\n",
       "  </tbody>\n",
       "</table>\n",
       "<p>129971 rows × 13 columns</p>\n",
       "</div>"
      ],
      "text/plain": [
       "         country  ...                winery\n",
       "0          Italy  ...               Nicosia\n",
       "1       Portugal  ...   Quinta dos Avidagos\n",
       "...          ...  ...                   ...\n",
       "129969    France  ...  Domaine Marcel Deiss\n",
       "129970    France  ...      Domaine Schoffit\n",
       "\n",
       "[129971 rows x 13 columns]"
      ]
     },
     "execution_count": 2,
     "metadata": {},
     "output_type": "execute_result"
    }
   ],
   "source": [
    "reviews"
   ]
  },
  {
   "cell_type": "markdown",
   "id": "8006674d-fbc2-4412-a9b2-333d541692e0",
   "metadata": {},
   "source": [
    "In Python, we can access the property of an object by accessing it as an attribute. A `book` object, for example, might have a `title` property, which we can access by calling `book.title`. Columns in a pandas DataFrame work in much the same way. <br>\n",
    "\n",
    "Hence to access the `country` property of `reviews` we can use:"
   ]
  },
  {
   "cell_type": "code",
   "execution_count": 3,
   "id": "dceb8fd0-8194-4b3e-9037-c00907dc8587",
   "metadata": {},
   "outputs": [
    {
     "data": {
      "text/plain": [
       "0            Italy\n",
       "1         Portugal\n",
       "            ...   \n",
       "129969      France\n",
       "129970      France\n",
       "Name: country, Length: 129971, dtype: object"
      ]
     },
     "execution_count": 3,
     "metadata": {},
     "output_type": "execute_result"
    }
   ],
   "source": [
    "reviews.country"
   ]
  },
  {
   "cell_type": "markdown",
   "id": "94302e60-7ee1-4d27-a99e-161814d3c8df",
   "metadata": {},
   "source": [
    "if we have a Python dictionary we can access its values using the indexing ( [ ] ) operator. We can do the same with the columns in a DataFrame."
   ]
  },
  {
   "cell_type": "code",
   "execution_count": 4,
   "id": "9639bf5d-c6f4-4066-8f20-a1207d891e33",
   "metadata": {},
   "outputs": [
    {
     "data": {
      "text/plain": [
       "0            Italy\n",
       "1         Portugal\n",
       "            ...   \n",
       "129969      France\n",
       "129970      France\n",
       "Name: country, Length: 129971, dtype: object"
      ]
     },
     "execution_count": 4,
     "metadata": {},
     "output_type": "execute_result"
    }
   ],
   "source": [
    "reviews['country']"
   ]
  },
  {
   "cell_type": "markdown",
   "id": "8e254e91-754a-4d37-afc9-ddf4acf72192",
   "metadata": {},
   "source": [
    "These are two ways of selecting a specific Series out of a DataFrame. Neither of them is more or less syntaactivally valid than the other, but the indexing operator [] does have the advantage that it can handle column names with reserved characters in them ( if we had a `country providence` column `review.country` would not work)."
   ]
  },
  {
   "cell_type": "markdown",
   "id": "aeabc0db-3e01-480b-8921-8c8f89620823",
   "metadata": {},
   "source": [
    "Doesn't a pandas Sereies look kind of like a fancy dictionary? It pretty much is, so it's no surprise that, to drill down to a single specific value, we need only to use the exisiting operator []  once more:"
   ]
  },
  {
   "cell_type": "code",
   "execution_count": 5,
   "id": "ec28b446-85f3-474d-a37b-6f5ad6c627e2",
   "metadata": {},
   "outputs": [
    {
     "data": {
      "text/plain": [
       "'Italy'"
      ]
     },
     "execution_count": 5,
     "metadata": {},
     "output_type": "execute_result"
    }
   ],
   "source": [
    "reviews['country'][0]"
   ]
  },
  {
   "cell_type": "markdown",
   "id": "f18fead1-01ca-4653-8421-8f09de90b6e2",
   "metadata": {},
   "source": [
    "### Indexing in Pandas\n",
    "\n",
    "The indexing operator and attribute selection are nice because they work just like they do in the rest of the Python ecosystem. However, pandas has its own accessor operators, `loc` and `iloc`. For more advanced operations, these are the ones you're supposed to be using. \n",
    "\n",
    "#### Index-based selection\n",
    "\n",
    "Pandas indexing works in one of two paradigms. The first is **index-based selection**: selecting data based on its numerical position in the data. `iloc` follows this paradigm. "
   ]
  },
  {
   "cell_type": "code",
   "execution_count": 15,
   "id": "3a71f98c-bafa-499a-8e73-92b050f33e09",
   "metadata": {},
   "outputs": [
    {
     "data": {
      "text/plain": [
       "country                                                 Portugal\n",
       "description    This is ripe and fruity, a wine that is smooth...\n",
       "                                     ...                        \n",
       "variety                                           Portuguese Red\n",
       "winery                                       Quinta dos Avidagos\n",
       "Name: 1, Length: 13, dtype: object"
      ]
     },
     "execution_count": 15,
     "metadata": {},
     "output_type": "execute_result"
    }
   ],
   "source": [
    "reviews.iloc[1] # Retrieving the second [1] column"
   ]
  },
  {
   "cell_type": "markdown",
   "id": "c220a8aa-d0f6-4fa1-a98f-3595ef622853",
   "metadata": {},
   "source": [
    "**Both `loc` and `iloc` are row-first, column-second**. This is the opposite of what we do in native Python, which is column-first, row-second. \n",
    "This means that it's marginally easier to retrieve rows, and mariginally harder to get retrieve columns. To get a column with `iloc`, we can do the following:"
   ]
  },
  {
   "cell_type": "code",
   "execution_count": 16,
   "id": "1010091a-ef09-4968-a2a6-dda8b1bb10f9",
   "metadata": {},
   "outputs": [
    {
     "data": {
      "text/plain": [
       "0            Italy\n",
       "1         Portugal\n",
       "            ...   \n",
       "129969      France\n",
       "129970      France\n",
       "Name: country, Length: 129971, dtype: object"
      ]
     },
     "execution_count": 16,
     "metadata": {},
     "output_type": "execute_result"
    }
   ],
   "source": [
    "reviews.iloc[:,0] # retrieveing all rows of the first [0] column"
   ]
  },
  {
   "cell_type": "markdown",
   "id": "92780da6-1e6b-4fc8-9b9b-ee3b4254c504",
   "metadata": {},
   "source": [
    "On its own, the : operator, which also comes from the native Python, means \"everything\". When combined with other selectors, however, it can be used to indicate a range of values. For example, to select the `country` column from just the first, second, and third row, we would do:"
   ]
  },
  {
   "cell_type": "code",
   "execution_count": 17,
   "id": "08fce7b2-4bae-4b5d-9d51-5b94f1dd9699",
   "metadata": {},
   "outputs": [
    {
     "data": {
      "text/plain": [
       "0       Italy\n",
       "1    Portugal\n",
       "2          US\n",
       "Name: country, dtype: object"
      ]
     },
     "execution_count": 17,
     "metadata": {},
     "output_type": "execute_result"
    }
   ],
   "source": [
    "reviews.iloc[:3,0] # retreiving first 3 rows of the first [0] column. "
   ]
  },
  {
   "cell_type": "code",
   "execution_count": 18,
   "id": "796c7dbc-d021-4d99-a318-9a09a2c1be25",
   "metadata": {},
   "outputs": [
    {
     "data": {
      "text/plain": [
       "1    Portugal\n",
       "2          US\n",
       "Name: country, dtype: object"
      ]
     },
     "execution_count": 18,
     "metadata": {},
     "output_type": "execute_result"
    }
   ],
   "source": [
    "reviews.iloc[1:3, 0] # retrieving 2nd and 3rd [1, 2] rows of the first column."
   ]
  },
  {
   "cell_type": "code",
   "execution_count": 19,
   "id": "667b6b71-9488-4082-86e8-7adffda8a834",
   "metadata": {},
   "outputs": [
    {
     "data": {
      "text/plain": [
       "0       Italy\n",
       "1    Portugal\n",
       "2          US\n",
       "Name: country, dtype: object"
      ]
     },
     "execution_count": 19,
     "metadata": {},
     "output_type": "execute_result"
    }
   ],
   "source": [
    "reviews.iloc[[0,1,2],0] # another way to retrieve 1,2,3rd rows of the first [0] column. "
   ]
  },
  {
   "cell_type": "markdown",
   "id": "68de72a0-d47b-41bd-b9a2-b8ccfbd34206",
   "metadata": {},
   "source": [
    "Finally, it's worth knowing that negative numbers can be used in selection. This will start counting forwards from the end of the values.\n",
    "So for example here are the last five elements of the dataset."
   ]
  },
  {
   "cell_type": "code",
   "execution_count": 26,
   "id": "53ba72fb-fe41-4a3b-9f2c-5e71b1764cc3",
   "metadata": {},
   "outputs": [
    {
     "data": {
      "text/plain": [
       "129966    Germany\n",
       "129967         US\n",
       "129968     France\n",
       "129969     France\n",
       "129970     France\n",
       "Name: country, dtype: object"
      ]
     },
     "execution_count": 26,
     "metadata": {},
     "output_type": "execute_result"
    }
   ],
   "source": [
    "reviews.iloc[-5:,0] # retrieving last 5 elements from the first [0] column"
   ]
  },
  {
   "cell_type": "markdown",
   "id": "17267400-8876-48fa-b710-8697fa602a0b",
   "metadata": {},
   "source": [
    "#### Label based selection\n",
    "The second paradigm for attribute selection is the one followed by `loc` operator: **label-based selection**.\n",
    "In this paradigm, its the data index value, not its position, which matters."
   ]
  },
  {
   "cell_type": "code",
   "execution_count": 27,
   "id": "85b7e489-18bc-425b-a4f2-8fc56bab08f7",
   "metadata": {},
   "outputs": [
    {
     "data": {
      "text/plain": [
       "'Italy'"
      ]
     },
     "execution_count": 27,
     "metadata": {},
     "output_type": "execute_result"
    }
   ],
   "source": [
    "reviews.loc[0, 'country']"
   ]
  },
  {
   "cell_type": "markdown",
   "id": "30723274-ebfb-4b29-913b-21b110d84eac",
   "metadata": {},
   "source": [
    "`iloc` is conceptually simpler than `loc` because it ignores the dataset's indices. When we use `iloc` we treat the dataset like a big matric (a list of lists), one that we have to index into by position, `loc`, by contrast, uses the information in the indices to do its work. Since your dataset usually has meaningful indices, its usually easier to do things using `loc` instead. "
   ]
  },
  {
   "cell_type": "code",
   "execution_count": 28,
   "id": "781a32a2-67b0-4433-8148-6c05f38acd35",
   "metadata": {},
   "outputs": [
    {
     "data": {
      "text/html": [
       "<div>\n",
       "<style scoped>\n",
       "    .dataframe tbody tr th:only-of-type {\n",
       "        vertical-align: middle;\n",
       "    }\n",
       "\n",
       "    .dataframe tbody tr th {\n",
       "        vertical-align: top;\n",
       "    }\n",
       "\n",
       "    .dataframe thead th {\n",
       "        text-align: right;\n",
       "    }\n",
       "</style>\n",
       "<table border=\"1\" class=\"dataframe\">\n",
       "  <thead>\n",
       "    <tr style=\"text-align: right;\">\n",
       "      <th></th>\n",
       "      <th>taster_name</th>\n",
       "      <th>taster_twitter_handle</th>\n",
       "      <th>points</th>\n",
       "    </tr>\n",
       "  </thead>\n",
       "  <tbody>\n",
       "    <tr>\n",
       "      <th>0</th>\n",
       "      <td>Kerin O’Keefe</td>\n",
       "      <td>@kerinokeefe</td>\n",
       "      <td>87</td>\n",
       "    </tr>\n",
       "    <tr>\n",
       "      <th>1</th>\n",
       "      <td>Roger Voss</td>\n",
       "      <td>@vossroger</td>\n",
       "      <td>87</td>\n",
       "    </tr>\n",
       "    <tr>\n",
       "      <th>...</th>\n",
       "      <td>...</td>\n",
       "      <td>...</td>\n",
       "      <td>...</td>\n",
       "    </tr>\n",
       "    <tr>\n",
       "      <th>129969</th>\n",
       "      <td>Roger Voss</td>\n",
       "      <td>@vossroger</td>\n",
       "      <td>90</td>\n",
       "    </tr>\n",
       "    <tr>\n",
       "      <th>129970</th>\n",
       "      <td>Roger Voss</td>\n",
       "      <td>@vossroger</td>\n",
       "      <td>90</td>\n",
       "    </tr>\n",
       "  </tbody>\n",
       "</table>\n",
       "<p>129971 rows × 3 columns</p>\n",
       "</div>"
      ],
      "text/plain": [
       "          taster_name taster_twitter_handle  points\n",
       "0       Kerin O’Keefe          @kerinokeefe      87\n",
       "1          Roger Voss            @vossroger      87\n",
       "...               ...                   ...     ...\n",
       "129969     Roger Voss            @vossroger      90\n",
       "129970     Roger Voss            @vossroger      90\n",
       "\n",
       "[129971 rows x 3 columns]"
      ]
     },
     "execution_count": 28,
     "metadata": {},
     "output_type": "execute_result"
    }
   ],
   "source": [
    "reviews.loc[:, ['taster_name','taster_twitter_handle', 'points']]"
   ]
  },
  {
   "cell_type": "markdown",
   "id": "be9f5bce-3efb-4295-8809-3054d6282f0b",
   "metadata": {},
   "source": [
    "#### Choosing between `loc` and `iloc`\n",
    "When choosing or transitioning between `loc` and `iloc`, there is one \"gotcha\" worth keeping in mind, which is that the two methods use slightly different indexing schemes. <br>\n",
    "`iloc` uses the Python `stdlib` indexing scheme, where the first element of the range is included and the last one excluded. So `0:10` will select entries `0,...,9`. `loc`, meanwhile, indexes inclusively. So `0:10` will select entries `0,...10`. "
   ]
  },
  {
   "cell_type": "markdown",
   "id": "7cbed335-b4bc-4b49-b535-4a485fb758a8",
   "metadata": {},
   "source": [
    "Why the change? Remember that `loc` can index any `stdlib` type: strings, for example, if we have a DataFrame with index values `Apples,...,Potatoes,...`, and we select \"all the alphabetical fruit choices between Apples and Potatoes\", then its a lot more convinient to index : <br>\n",
    "```python\n",
    "df.loc['Apples':'Potatoes']\n",
    "```\n",
    "that it is to index something like \n",
    "```python\n",
    "df.loc['Apples':'Potatoet'] # t comes after s in the alphabet\n",
    "```"
   ]
  },
  {
   "cell_type": "markdown",
   "id": "2a457c95-260d-47cf-a130-e2b7bc6670d5",
   "metadata": {},
   "source": []
  }
 ],
 "metadata": {
  "kernelspec": {
   "display_name": "learnAI",
   "language": "python",
   "name": "learnai"
  },
  "language_info": {
   "codemirror_mode": {
    "name": "ipython",
    "version": 3
   },
   "file_extension": ".py",
   "mimetype": "text/x-python",
   "name": "python",
   "nbconvert_exporter": "python",
   "pygments_lexer": "ipython3",
   "version": "3.12.3"
  }
 },
 "nbformat": 4,
 "nbformat_minor": 5
}
