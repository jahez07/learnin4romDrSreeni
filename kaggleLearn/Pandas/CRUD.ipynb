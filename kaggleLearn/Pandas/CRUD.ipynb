{
 "cells": [
  {
   "cell_type": "markdown",
   "id": "3c7800bc-16c7-45b5-bb92-7b63b55d1676",
   "metadata": {},
   "source": [
    "# **Creating, Reading and Writing**"
   ]
  },
  {
   "cell_type": "markdown",
   "id": "0bbd81a7-cf5a-474c-a752-30eac57612e1",
   "metadata": {},
   "source": [
    "## **Introduction**\n",
    "In this micro-course, we will look into pandas, the most popular Python Library for data analysis. \n",
    "Along the way, you'll complete several hands-on exercise with real - world data."
   ]
  },
  {
   "cell_type": "code",
   "execution_count": 2,
   "id": "17a8c773-36be-4fe6-9b72-5a7b6ec342ec",
   "metadata": {},
   "outputs": [],
   "source": [
    "import pandas as pd"
   ]
  },
  {
   "cell_type": "markdown",
   "id": "7cd0f556-1a79-4b34-8812-8f1364eed9c2",
   "metadata": {},
   "source": [
    "## Creating Data\n",
    "\n",
    "There are two core objects in pandas: the **DataFrame** and the **Series**\n",
    "\n",
    "#### Data Frame\n",
    "A DataFrame is a table. It contains an array of individual entries, each of which has a certain value. Each entry corresponds to a row (or record) and a column. <br>\n",
    "\n",
    "For example, consider the following simple DataFrame:"
   ]
  },
  {
   "cell_type": "code",
   "execution_count": 3,
   "id": "a7d128a7-ff79-48ae-b1e4-2c01895e1080",
   "metadata": {},
   "outputs": [
    {
     "data": {
      "text/html": [
       "<div>\n",
       "<style scoped>\n",
       "    .dataframe tbody tr th:only-of-type {\n",
       "        vertical-align: middle;\n",
       "    }\n",
       "\n",
       "    .dataframe tbody tr th {\n",
       "        vertical-align: top;\n",
       "    }\n",
       "\n",
       "    .dataframe thead th {\n",
       "        text-align: right;\n",
       "    }\n",
       "</style>\n",
       "<table border=\"1\" class=\"dataframe\">\n",
       "  <thead>\n",
       "    <tr style=\"text-align: right;\">\n",
       "      <th></th>\n",
       "      <th>Yes</th>\n",
       "      <th>No</th>\n",
       "    </tr>\n",
       "  </thead>\n",
       "  <tbody>\n",
       "    <tr>\n",
       "      <th>0</th>\n",
       "      <td>50</td>\n",
       "      <td>131</td>\n",
       "    </tr>\n",
       "    <tr>\n",
       "      <th>1</th>\n",
       "      <td>21</td>\n",
       "      <td>2</td>\n",
       "    </tr>\n",
       "  </tbody>\n",
       "</table>\n",
       "</div>"
      ],
      "text/plain": [
       "   Yes   No\n",
       "0   50  131\n",
       "1   21    2"
      ]
     },
     "execution_count": 3,
     "metadata": {},
     "output_type": "execute_result"
    }
   ],
   "source": [
    "pd.DataFrame({'Yes': [50,21], 'No': [131, 2]})"
   ]
  },
  {
   "cell_type": "markdown",
   "id": "632719d9-2dac-4c5a-bdd1-d2a99bbbe819",
   "metadata": {},
   "source": [
    "In this example, the `0, No` entry has the value of 131. The `0, Yes` entry has a value of 50, and so on. <br>\n",
    "DataFrame entries are not limited to integers. For instance, here's a DataFrame whose values are strings:"
   ]
  },
  {
   "cell_type": "code",
   "execution_count": 4,
   "id": "ce11894f-5095-4789-b87f-6840a76a146b",
   "metadata": {},
   "outputs": [
    {
     "data": {
      "text/html": [
       "<div>\n",
       "<style scoped>\n",
       "    .dataframe tbody tr th:only-of-type {\n",
       "        vertical-align: middle;\n",
       "    }\n",
       "\n",
       "    .dataframe tbody tr th {\n",
       "        vertical-align: top;\n",
       "    }\n",
       "\n",
       "    .dataframe thead th {\n",
       "        text-align: right;\n",
       "    }\n",
       "</style>\n",
       "<table border=\"1\" class=\"dataframe\">\n",
       "  <thead>\n",
       "    <tr style=\"text-align: right;\">\n",
       "      <th></th>\n",
       "      <th>Bob</th>\n",
       "      <th>Sue</th>\n",
       "    </tr>\n",
       "  </thead>\n",
       "  <tbody>\n",
       "    <tr>\n",
       "      <th>0</th>\n",
       "      <td>I liked it.</td>\n",
       "      <td>Pretty good</td>\n",
       "    </tr>\n",
       "    <tr>\n",
       "      <th>1</th>\n",
       "      <td>It was awful</td>\n",
       "      <td>Bland</td>\n",
       "    </tr>\n",
       "  </tbody>\n",
       "</table>\n",
       "</div>"
      ],
      "text/plain": [
       "            Bob          Sue\n",
       "0   I liked it.  Pretty good\n",
       "1  It was awful        Bland"
      ]
     },
     "execution_count": 4,
     "metadata": {},
     "output_type": "execute_result"
    }
   ],
   "source": [
    "pd.DataFrame({'Bob': ['I liked it.', 'It was awful'], 'Sue':['Pretty good', 'Bland']})"
   ]
  },
  {
   "cell_type": "markdown",
   "id": "991a4bd3-a251-4171-bedd-6dd1eacda0e9",
   "metadata": {},
   "source": [
    "We are using the `pd.DataFrame()` constructor to generate these DataFrame objects. The syntax for declaring a new one is a dictionary whose keys are the column names (`Bob` and `Sue` in this example), and whose values are a list of entries. This is the standard way of constructing a new DataFrame, and the one you are most likely to encounter. "
   ]
  },
  {
   "cell_type": "markdown",
   "id": "8c1860a2-97e6-4bed-8dcb-6bdf403ca22c",
   "metadata": {},
   "source": [
    "The dictionary-list constructor assigns values to the _columns labels_, but just uses an ascending count from (0, 1, 2, 3 ....) for the row labels. Sometimes this is OK, but oftentimes we will want to assign these labels ourselves. <br>\n",
    "The list of row lables used in a DataFrame is known as an **Index**. We can assign values to it by using an `index` parameter in our constructor."
   ]
  },
  {
   "cell_type": "code",
   "execution_count": 5,
   "id": "b2879920-d605-4737-98ce-3f8bfc8083af",
   "metadata": {},
   "outputs": [
    {
     "data": {
      "text/html": [
       "<div>\n",
       "<style scoped>\n",
       "    .dataframe tbody tr th:only-of-type {\n",
       "        vertical-align: middle;\n",
       "    }\n",
       "\n",
       "    .dataframe tbody tr th {\n",
       "        vertical-align: top;\n",
       "    }\n",
       "\n",
       "    .dataframe thead th {\n",
       "        text-align: right;\n",
       "    }\n",
       "</style>\n",
       "<table border=\"1\" class=\"dataframe\">\n",
       "  <thead>\n",
       "    <tr style=\"text-align: right;\">\n",
       "      <th></th>\n",
       "      <th>Bob</th>\n",
       "      <th>Sue</th>\n",
       "    </tr>\n",
       "  </thead>\n",
       "  <tbody>\n",
       "    <tr>\n",
       "      <th>Product A</th>\n",
       "      <td>I liked it.</td>\n",
       "      <td>Pretty goo</td>\n",
       "    </tr>\n",
       "    <tr>\n",
       "      <th>Product B</th>\n",
       "      <td>It was awful</td>\n",
       "      <td>Bland</td>\n",
       "    </tr>\n",
       "  </tbody>\n",
       "</table>\n",
       "</div>"
      ],
      "text/plain": [
       "                    Bob         Sue\n",
       "Product A   I liked it.  Pretty goo\n",
       "Product B  It was awful       Bland"
      ]
     },
     "execution_count": 5,
     "metadata": {},
     "output_type": "execute_result"
    }
   ],
   "source": [
    "pd.DataFrame({'Bob': ['I liked it.', 'It was awful'], \n",
    "              'Sue': ['Pretty goo', 'Bland']},\n",
    "             index=['Product A', 'Product B'])"
   ]
  },
  {
   "cell_type": "markdown",
   "id": "8c8b5271-77ff-47c4-a5c4-64aee18514be",
   "metadata": {},
   "source": [
    "#### Series\n",
    "A Series, by contrast, is a sequence of data values. If a DataFrame is table, a Series is a list. And in fact you can create one with nothing more than a list. "
   ]
  },
  {
   "cell_type": "code",
   "execution_count": 6,
   "id": "e105a185-5958-42f1-9d93-caf6cdd96ece",
   "metadata": {},
   "outputs": [
    {
     "data": {
      "text/plain": [
       "0    1\n",
       "1    2\n",
       "2    3\n",
       "3    4\n",
       "4    5\n",
       "dtype: int64"
      ]
     },
     "execution_count": 6,
     "metadata": {},
     "output_type": "execute_result"
    }
   ],
   "source": [
    "pd.Series([1,2,3,4,5])"
   ]
  },
  {
   "cell_type": "markdown",
   "id": "0fb7a44b-bee9-4c61-8871-29d4453abf57",
   "metadata": {},
   "source": [
    "A Series is, in essence, a single column of a DataFrame. So you can assign row labels to the Series the same way as before, using an `index` parameter. However, a Series does not have a column name, it only has one over all name:"
   ]
  },
  {
   "cell_type": "code",
   "execution_count": 7,
   "id": "3d8301fa-5b20-41ac-b25e-6d4419cad161",
   "metadata": {},
   "outputs": [
    {
     "data": {
      "text/plain": [
       "2025 Sales    30\n",
       "2016 Sales    35\n",
       "2017 Sales    40\n",
       "Name: Product A, dtype: int64"
      ]
     },
     "execution_count": 7,
     "metadata": {},
     "output_type": "execute_result"
    }
   ],
   "source": [
    "pd.Series([30, 35, 40], index=['2025 Sales', '2016 Sales','2017 Sales'], name = 'Product A')"
   ]
  },
  {
   "cell_type": "markdown",
   "id": "2a81b89a-5f49-464e-a5ad-3416663fa243",
   "metadata": {},
   "source": [
    "The Series and the DataFrame are initmately related. It's helpful to think of a DataFrame as actually being just a bunch of Series \"glued together\". We'll see more of this in the next section of this tutorial"
   ]
  },
  {
   "cell_type": "markdown",
   "id": "e01414c7-2d44-4d94-8ae8-7137e11e8a45",
   "metadata": {},
   "source": [
    "## **Reading data files**\n",
    "Being able to create a DataFrame or Series by hand is handy. But, most of the time, we won't actually be creating our own data by hand. Instead, we'll be working with data that already exists. "
   ]
  },
  {
   "cell_type": "markdown",
   "id": "bca779ec-7e3d-44e0-95e5-b6a1e14357f2",
   "metadata": {},
   "source": [
    "Data can be stored in any of a number of different forms and formats. By far the most basic of these is the humble CSV file. When you open a CSV file you get something that looks like this:"
   ]
  },
  {
   "cell_type": "markdown",
   "id": "62e5ed28-b350-4d29-8c1c-603feac55204",
   "metadata": {},
   "source": [
    "```\n",
    "Product A, Product B, Product C, \n",
    "30, 21, 9, \n",
    "35, 34, 1, \n",
    "41, 11, 11\n",
    "```"
   ]
  },
  {
   "cell_type": "markdown",
   "id": "7ec9ea5a-6898-4ce4-a7c5-1f9033c8f3bf",
   "metadata": {},
   "source": [
    "So a CSV file is a table of values separated by commas. Hence the name: \"Comma-Seperated Values\", or CSV."
   ]
  },
  {
   "cell_type": "code",
   "execution_count": null,
   "id": "0e0aa6f9-d3ae-4f3c-bf99-1e1363688ff2",
   "metadata": {},
   "outputs": [],
   "source": []
  },
  {
   "cell_type": "code",
   "execution_count": null,
   "id": "7cc28a9e-0aaa-441d-847e-a86daedae74e",
   "metadata": {},
   "outputs": [],
   "source": []
  }
 ],
 "metadata": {
  "kernelspec": {
   "display_name": "learnAI",
   "language": "python",
   "name": "learnai"
  },
  "language_info": {
   "codemirror_mode": {
    "name": "ipython",
    "version": 3
   },
   "file_extension": ".py",
   "mimetype": "text/x-python",
   "name": "python",
   "nbconvert_exporter": "python",
   "pygments_lexer": "ipython3",
   "version": "3.12.3"
  }
 },
 "nbformat": 4,
 "nbformat_minor": 5
}
