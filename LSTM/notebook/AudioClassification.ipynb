{
 "cells": [
  {
   "cell_type": "markdown",
   "id": "e37195c8-ec5e-4b00-ace1-1e252544930e",
   "metadata": {},
   "source": [
    "# **Audio Classification with LSTM and Torch Audio**"
   ]
  },
  {
   "cell_type": "markdown",
   "id": "a90e4926-a8e2-40ef-a5f2-4c071692c709",
   "metadata": {},
   "source": [
    "## **Libraries Required**"
   ]
  },
  {
   "cell_type": "code",
   "execution_count": 1,
   "id": "f8e0c8fc-171a-41fe-92e2-5db6139dbb96",
   "metadata": {},
   "outputs": [],
   "source": [
    "import torch\n",
    "import torch.nn as nn\n",
    "import torch.optim as optim\n",
    "from torch.utils.data import Dataset\n",
    "import torchaudio\n",
    "import pandas as pd\n",
    "import torch.nn.functional as F"
   ]
  },
  {
   "cell_type": "markdown",
   "id": "61f3d651-e468-4172-a29b-e3a99dabe752",
   "metadata": {},
   "source": [
    "## **About Dataset**"
   ]
  },
  {
   "cell_type": "markdown",
   "id": "01645cd7-b786-4d5e-971a-0577cfaa096d",
   "metadata": {},
   "source": [
    "This dataset contains 8732 labeled sound excerpts ( <= 4s ) of urban sounds from 10 classes :`air_conditioner`, `car_horn`, `children_playing`, `dog_bark`, `drilling`, `engine_idling`, `gun_shot`, `jackhammer`, `siren` and `street_music`. The classes are drawn from the urban sound taxonomy."
   ]
  },
  {
   "cell_type": "code",
   "execution_count": null,
   "id": "c539fd6e-0d2a-44ca-88da-47d2df1343ff",
   "metadata": {},
   "outputs": [],
   "source": []
  }
 ],
 "metadata": {
  "kernelspec": {
   "display_name": "learnAI",
   "language": "python",
   "name": "learnai"
  },
  "language_info": {
   "codemirror_mode": {
    "name": "ipython",
    "version": 3
   },
   "file_extension": ".py",
   "mimetype": "text/x-python",
   "name": "python",
   "nbconvert_exporter": "python",
   "pygments_lexer": "ipython3",
   "version": "3.12.3"
  }
 },
 "nbformat": 4,
 "nbformat_minor": 5
}
